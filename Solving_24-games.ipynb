{
  "nbformat": 4,
  "nbformat_minor": 0,
  "metadata": {
    "colab": {
      "provenance": [],
      "toc_visible": true,
      "include_colab_link": true
    },
    "kernelspec": {
      "name": "python3",
      "display_name": "Python 3"
    },
    "language_info": {
      "name": "python"
    }
  },
  "cells": [
    {
      "cell_type": "markdown",
      "metadata": {
        "id": "view-in-github",
        "colab_type": "text"
      },
      "source": [
        "<a href=\"https://colab.research.google.com/github/BOMBBAAM/AI-classworks/blob/main/Solving_24-games.ipynb\" target=\"_parent\"><img src=\"https://colab.research.google.com/assets/colab-badge.svg\" alt=\"Open In Colab\"/></a>"
      ]
    },
    {
      "cell_type": "markdown",
      "source": [
        "# Solving 24 Game\n",
        "Members :\n",
        "- Kittipon Rakwong 6330034821"
      ],
      "metadata": {
        "id": "GMkC3KhSsKy9"
      }
    },
    {
      "cell_type": "markdown",
      "source": [
        "# Task 1\n",
        "- Start with four integers and all of them must be used via standard operations ( + , - , * , / )\n",
        "- Techniques : State - Space or any other technique can be used.\n",
        "- This task goal is to find the operations to get 24 as the result."
      ],
      "metadata": {
        "id": "MwHXO7PjsWku"
      }
    },
    {
      "cell_type": "code",
      "execution_count": null,
      "metadata": {
        "id": "HRTpO6juEBxd",
        "colab": {
          "base_uri": "https://localhost:8080/"
        },
        "outputId": "2cae1dd9-036e-47df-b964-b5d8a85f3154"
      },
      "outputs": [
        {
          "output_type": "stream",
          "name": "stdout",
          "text": [
            "[2, 3, 6, 2]\n"
          ]
        }
      ],
      "source": [
        "import random\n",
        "import numpy as np\n",
        "\n",
        "# Four random numbers\n",
        "random_number = [random.randint(1,9) for i in range(4)]\n",
        "print(random_number)"
      ]
    },
    {
      "cell_type": "code",
      "source": [
        "# Blindsearch Algorithm\n",
        "\n",
        "def gen_successors(node):\n",
        "    nodes = []\n",
        "    current = node[0]\n",
        "    operation= node[1]\n",
        "    for i in range(len(current) - 1):\n",
        "        for j in range(i+1,len(current)):\n",
        "            # i, j => 01 02 03 12 13 23 combinations of remaining numbers\n",
        "            operand1 = current[i]\n",
        "            operand2 = current[j]\n",
        "            # Cut out two operands\n",
        "            remaining = current[:i] + current[i+1:j] + current[j+1:]\n",
        "            # Addition\n",
        "            nodes.append(( remaining + [operand1 + operand2], operation + [str(operand1) + ' + ' + str(operand2) + ' = ' + str(operand1 + operand2)] ))\n",
        "            # Subtraction\n",
        "            nodes.append(( remaining + [operand1 - operand2], operation + [str(operand1) + ' - ' + str(operand2) + ' = ' + str(operand1 - operand2)] ))\n",
        "            nodes.append(( remaining + [operand2 - operand1], operation + [str(operand2) + ' - ' + str(operand1) + ' = ' + str(operand2 - operand1)] ))\n",
        "            # Multiplication\n",
        "            nodes.append(( remaining + [operand1 * operand2], operation + [str(operand1) + ' x ' + str(operand2) + ' = ' + str(operand1 * operand2)] ))\n",
        "            # Divided\n",
        "            if operand2 != 0 : nodes.append(( remaining + [operand1 / operand2], operation + [str(operand1) + ' / ' + str(operand2) + ' = ' + str(operand1 / operand2)] ))\n",
        "            if operand1 != 0 :nodes.append(( remaining + [operand2 / operand1], operation + [str(operand2) + ' / ' + str(operand1) + ' = ' + str(operand2 / operand1)] ))\n",
        "    return nodes\n",
        "   \n",
        "def is_goal(node):\n",
        "    return node[0] == [24]\n",
        "\n",
        "def insert_all(node,fringe):\n",
        "    children = gen_successors(node)\n",
        "    for child in children:\n",
        "        fringe.append(child)\n",
        "    # print(fringe)\n",
        "\n",
        "def show_result(g):\n",
        "    print(g)\n",
        "\n",
        "def bfs(start_node):\n",
        "    fringe = [start_node]\n",
        "    # print(fringe)\n",
        "    while True:\n",
        "        if len(fringe) == 0:\n",
        "            print('Not Found')\n",
        "            break\n",
        "        front = fringe[0]\n",
        "        fringe = fringe[1:]\n",
        "        if is_goal(front):\n",
        "            show_result(front)\n",
        "            return True\n",
        "        insert_all(front,fringe)\n",
        "\n",
        "# node = ([a,b,c,d],[operation_list])\n",
        "print('[a,b,c,d] : ',random_number)\n",
        "bfs((random_number,[]))"
      ],
      "metadata": {
        "id": "UgvMlp88EKZW",
        "colab": {
          "base_uri": "https://localhost:8080/"
        },
        "outputId": "7b018713-106b-473e-a9fe-b187ff4d2f32"
      },
      "execution_count": null,
      "outputs": [
        {
          "output_type": "stream",
          "name": "stdout",
          "text": [
            "[a,b,c,d] :  [2, 3, 6, 2]\n",
            "([24], ['2 x 3 = 6', '6 - 2 = 4', '6 x 4 = 24'])\n"
          ]
        },
        {
          "output_type": "execute_result",
          "data": {
            "text/plain": [
              "True"
            ]
          },
          "metadata": {},
          "execution_count": 19
        }
      ]
    },
    {
      "cell_type": "markdown",
      "source": [
        "# Task 2\n",
        "- Start with four integers and any of them be used via standard operations ( + , - , * , / )\n",
        "- YOUR TECHNIQUE MUST BE ABLE TO FIND THE SHORTEST OPERATIONS.\n",
        "- This task goal is to find the SHORTEST OPERATIONS to get 24 as the result."
      ],
      "metadata": {
        "id": "eGjcxi0y7LVc"
      }
    },
    {
      "cell_type": "code",
      "source": [
        "import random\n",
        "import numpy as np\n",
        "\n",
        "# Four random numbers\n",
        "random_number = [random.randint(1,9) for i in range(4)]\n",
        "print(random_number)"
      ],
      "metadata": {
        "colab": {
          "base_uri": "https://localhost:8080/"
        },
        "id": "2Zlz6C9rgfdW",
        "outputId": "e1260b06-6099-430c-aa9d-d26d68a58d27"
      },
      "execution_count": null,
      "outputs": [
        {
          "output_type": "stream",
          "name": "stdout",
          "text": [
            "[9, 9, 6, 8]\n"
          ]
        }
      ]
    },
    {
      "cell_type": "code",
      "source": [
        "# Blindsearch Algorithm\n",
        "\n",
        "def gen_successors(node):\n",
        "    nodes = []\n",
        "    current = node[0]\n",
        "    operation= node[1]\n",
        "    for i in range(len(current) - 1):\n",
        "        for j in range(i+1,len(current)):\n",
        "            # i, j => 01 02 03 12 13 23 combinations of remaining numbers\n",
        "            operand1 = current[i]\n",
        "            operand2 = current[j]\n",
        "            # Cut out two operands\n",
        "            remaining = current[:i] + current[i+1:j] + current[j+1:]\n",
        "            # Addition\n",
        "            nodes.append(( remaining + [operand1 + operand2], operation + [str(operand1) + ' + ' + str(operand2) + ' = ' + str(operand1 + operand2)] ))\n",
        "            # Subtraction\n",
        "            nodes.append(( remaining + [operand1 - operand2], operation + [str(operand1) + ' - ' + str(operand2) + ' = ' + str(operand1 - operand2)] ))\n",
        "            nodes.append(( remaining + [operand2 - operand1], operation + [str(operand2) + ' - ' + str(operand1) + ' = ' + str(operand2 - operand1)] ))\n",
        "            # Multiplication\n",
        "            nodes.append(( remaining + [operand1 * operand2], operation + [str(operand1) + ' x ' + str(operand2) + ' = ' + str(operand1 * operand2)] ))\n",
        "            # Divided\n",
        "            if operand2 != 0 : nodes.append(( remaining + [operand1 / operand2], operation + [str(operand1) + ' / ' + str(operand2) + ' = ' + str(operand1 / operand2)] ))\n",
        "            if operand1 != 0 :nodes.append(( remaining + [operand2 / operand1], operation + [str(operand2) + ' / ' + str(operand1) + ' = ' + str(operand2 / operand1)] ))\n",
        "    return nodes\n",
        "   \n",
        "def is_goal(node):\n",
        "    current_state = node[0]\n",
        "    return 24 in current_state\n",
        "\n",
        "def insert_all(node,fringe):\n",
        "    children = gen_successors(node)\n",
        "    for child in children:\n",
        "        fringe.append(child)\n",
        "    # print(fringe)\n",
        "\n",
        "def show_result(g):\n",
        "    print(g)\n",
        "\n",
        "def bfs(start_node):\n",
        "    fringe = [start_node]\n",
        "    # print(fringe)\n",
        "    while True:\n",
        "        if len(fringe) == 0:\n",
        "            print('Not Found')\n",
        "            break\n",
        "        front = fringe[0]\n",
        "        fringe = fringe[1:]\n",
        "        if is_goal(front):\n",
        "            show_result(front)\n",
        "            return True\n",
        "        insert_all(front,fringe)\n",
        "\n",
        "# node = ([a,b,c,d],[operation_list])\n",
        "print('[a,b,c,d] : ',random_number)\n",
        "bfs((random_number,[]))"
      ],
      "metadata": {
        "colab": {
          "base_uri": "https://localhost:8080/"
        },
        "id": "D0BillqikDgD",
        "outputId": "a413f37e-575d-4a49-a669-4341813d59e6"
      },
      "execution_count": null,
      "outputs": [
        {
          "output_type": "stream",
          "name": "stdout",
          "text": [
            "[a,b,c,d] :  [9, 9, 6, 8]\n",
            "([8, 24], ['9 + 9 = 18', '6 + 18 = 24'])\n"
          ]
        },
        {
          "output_type": "execute_result",
          "data": {
            "text/plain": [
              "True"
            ]
          },
          "metadata": {},
          "execution_count": 22
        }
      ]
    },
    {
      "cell_type": "markdown",
      "source": [
        "# Task 3\n",
        "- Starts with 20 integers and any of them be usedvia standard operations ( + , - , * , / )\n",
        "- This task goal is to find the operations of some number in the list to get the target as the result."
      ],
      "metadata": {
        "id": "GBNolJ2FnB4y"
      }
    },
    {
      "cell_type": "code",
      "source": [
        "import random\n",
        "import numpy as np\n",
        "\n",
        "# Four random numbers\n",
        "random_number = [random.randint(1,9) for i in range(20)]\n",
        "target_number = random.randint(0,100) # minimum is 0, maximum is 100\n",
        "\n",
        "print('List of numbers :',random_number)\n",
        "print('Target :',target_number)"
      ],
      "metadata": {
        "colab": {
          "base_uri": "https://localhost:8080/"
        },
        "id": "7ShYbbUCkohN",
        "outputId": "695962ef-298c-45e4-e198-7c2ccb316c48"
      },
      "execution_count": null,
      "outputs": [
        {
          "output_type": "stream",
          "name": "stdout",
          "text": [
            "List of numbers : [3, 1, 5, 1, 9, 3, 8, 4, 3, 3, 9, 9, 4, 3, 6, 9, 9, 1, 7, 7]\n",
            "Target : 42\n"
          ]
        }
      ]
    },
    {
      "cell_type": "code",
      "source": [
        "# Blindsearch Algorithm\n",
        "\n",
        "def gen_successors(node):\n",
        "    nodes = []\n",
        "    current = node[0]\n",
        "    operation= node[1]\n",
        "    for i in range(len(current) - 1):\n",
        "        for j in range(i+1,len(current)):\n",
        "            # i, j => 01 02 03 12 13 23 combinations of remaining numbers\n",
        "            operand1 = current[i]\n",
        "            operand2 = current[j]\n",
        "            # Cut out two operands\n",
        "            remaining = current[:i] + current[i+1:j] + current[j+1:]\n",
        "            # Addition\n",
        "            nodes.append(( remaining + [operand1 + operand2], operation + [str(operand1) + ' + ' + str(operand2) + ' = ' + str(operand1 + operand2)] ))\n",
        "            # Subtraction\n",
        "            nodes.append(( remaining + [operand1 - operand2], operation + [str(operand1) + ' - ' + str(operand2) + ' = ' + str(operand1 - operand2)] ))\n",
        "            nodes.append(( remaining + [operand2 - operand1], operation + [str(operand2) + ' - ' + str(operand1) + ' = ' + str(operand2 - operand1)] ))\n",
        "            # Multiplication\n",
        "            nodes.append(( remaining + [operand1 * operand2], operation + [str(operand1) + ' x ' + str(operand2) + ' = ' + str(operand1 * operand2)] ))\n",
        "            # Divided\n",
        "            if operand2 != 0 : nodes.append(( remaining + [operand1 / operand2], operation + [str(operand1) + ' / ' + str(operand2) + ' = ' + str(operand1 / operand2)] ))\n",
        "            if operand1 != 0 :nodes.append(( remaining + [operand2 / operand1], operation + [str(operand2) + ' / ' + str(operand1) + ' = ' + str(operand2 / operand1)] ))\n",
        "    return nodes\n",
        "   \n",
        "def is_goal(node):\n",
        "    current_state = node[0]\n",
        "    return target_number in current_state\n",
        "\n",
        "def insert_all(node,fringe):\n",
        "    children = gen_successors(node)\n",
        "    for child in children:\n",
        "        fringe.append(child)\n",
        "    # print(fringe)\n",
        "\n",
        "def show_result(g):\n",
        "    print(g)\n",
        "\n",
        "def bfs(start_node):\n",
        "    fringe = [start_node]\n",
        "    # print(fringe)\n",
        "    while True:\n",
        "        if len(fringe) == 0:\n",
        "            print('Not Found')\n",
        "            break\n",
        "        front = fringe[0]\n",
        "        fringe = fringe[1:]\n",
        "        if is_goal(front):\n",
        "            show_result(front)\n",
        "            return True\n",
        "        insert_all(front,fringe)\n",
        "\n",
        "# node = ([a,b,c,d],[operation_list])\n",
        "print('List of 20 numbers : ',random_number)\n",
        "bfs((random_number,[]))"
      ],
      "metadata": {
        "colab": {
          "base_uri": "https://localhost:8080/"
        },
        "id": "oMlu4f3csQcd",
        "outputId": "869312dc-faa6-4dbb-a1c9-4a0a61fd5ccf"
      },
      "execution_count": null,
      "outputs": [
        {
          "output_type": "stream",
          "name": "stdout",
          "text": [
            "List of 20 numbers :  [3, 1, 5, 1, 9, 3, 8, 4, 3, 3, 9, 9, 4, 3, 6, 9, 9, 1, 7, 7]\n",
            "([3, 1, 5, 1, 9, 3, 8, 4, 3, 3, 9, 9, 4, 3, 9, 9, 1, 7, 42], ['6 x 7 = 42'])\n"
          ]
        },
        {
          "output_type": "execute_result",
          "data": {
            "text/plain": [
              "True"
            ]
          },
          "metadata": {},
          "execution_count": 44
        }
      ]
    },
    {
      "cell_type": "code",
      "source": [],
      "metadata": {
        "id": "EJE6lO69sxyc"
      },
      "execution_count": null,
      "outputs": []
    }
  ]
}