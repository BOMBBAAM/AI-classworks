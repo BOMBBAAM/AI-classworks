{
  "nbformat": 4,
  "nbformat_minor": 0,
  "metadata": {
    "colab": {
      "provenance": [],
      "include_colab_link": true
    },
    "kernelspec": {
      "name": "python3",
      "display_name": "Python 3"
    }
  },
  "cells": [
    {
      "cell_type": "markdown",
      "metadata": {
        "id": "view-in-github",
        "colab_type": "text"
      },
      "source": [
        "<a href=\"https://colab.research.google.com/github/BOMBBAAM/AI-classworks/blob/main/K_means_A_study_of_Asian_Religious_and_Biblical_Texts.ipynb\" target=\"_parent\"><img src=\"https://colab.research.google.com/assets/colab-badge.svg\" alt=\"Open In Colab\"/></a>"
      ]
    },
    {
      "cell_type": "markdown",
      "metadata": {
        "id": "qHsqdvCunkZw"
      },
      "source": [
        "# K-Means on Wine\n",
        "\n",
        "## In class\n",
        "\n",
        "1. Try to understand the notebook first, then ... \n",
        "2. Apply K-means on your own dataset\n",
        "\n",
        "  - Pick from any where, or use one in https://scikit-learn.org/stable/datasets/index.html\n",
        "  - Describe the dataset you pick\n",
        "\n",
        "3. Find the right \"K\" (try to justify your decision)\n",
        "4. Report the results (make it short)\n",
        "\n",
        "**Write a report as a PDF (including screen shots if needed).** \n",
        "\n"
      ]
    },
    {
      "cell_type": "markdown",
      "metadata": {
        "id": "_eAkFvuaptXn"
      },
      "source": [
        "## Load the wine dataset"
      ]
    },
    {
      "cell_type": "code",
      "metadata": {
        "id": "huOy_yjEf5r9",
        "colab": {
          "base_uri": "https://localhost:8080/"
        },
        "outputId": "47de5c03-f85b-4acc-b6ac-fc27e618ac50"
      },
      "source": [
        "import pandas as pd\n",
        "import numpy as np\n",
        "import matplotlib.pyplot as plt\n",
        "import gdown\n",
        "%matplotlib inline \n",
        "from sklearn.cluster import KMeans\n",
        "\n",
        "# A study of Asian Religious and Biblical Texts Data Set\n",
        "# 590 samples with 8 distinct chapters \n",
        "# Features measure the number of words used in each chapter\n",
        "# https://archive.ics.uci.edu/ml/datasets/A+study+of++Asian+Religious+and+Biblical+Texts\n",
        "!gdown 1hhNOUKC4gHFdTta0yn5_c6PSjPgKm6U6"
      ],
      "execution_count": 25,
      "outputs": [
        {
          "output_type": "stream",
          "name": "stdout",
          "text": [
            "Downloading...\n",
            "From: https://drive.google.com/uc?id=1hhNOUKC4gHFdTta0yn5_c6PSjPgKm6U6\n",
            "To: /content/AllBooks_baseline_DTM_Labelled.csv\n",
            "\r  0% 0.00/9.83M [00:00<?, ?B/s]\r 48% 4.72M/9.83M [00:00<00:00, 19.0MB/s]\r100% 9.83M/9.83M [00:00<00:00, 36.9MB/s]\n"
          ]
        }
      ]
    },
    {
      "cell_type": "code",
      "source": [
        "df = pd.read_csv('AllBooks_baseline_DTM_Labelled.csv', header=None,skiprows=1)\n",
        "print(df.shape)\n",
        "df.sample.head()"
      ],
      "metadata": {
        "colab": {
          "base_uri": "https://localhost:8080/",
          "height": 218
        },
        "id": "kA10oLJ04o9G",
        "outputId": "834a1fb3-efac-4f2a-d144-1bac922eee68"
      },
      "execution_count": 54,
      "outputs": [
        {
          "output_type": "stream",
          "name": "stdout",
          "text": [
            "(590, 8267)\n"
          ]
        },
        {
          "output_type": "error",
          "ename": "AttributeError",
          "evalue": "ignored",
          "traceback": [
            "\u001b[0;31m---------------------------------------------------------------------------\u001b[0m",
            "\u001b[0;31mAttributeError\u001b[0m                            Traceback (most recent call last)",
            "\u001b[0;32m<ipython-input-54-7fb6297ebfc9>\u001b[0m in \u001b[0;36m<module>\u001b[0;34m\u001b[0m\n\u001b[1;32m      1\u001b[0m \u001b[0mdf\u001b[0m \u001b[0;34m=\u001b[0m \u001b[0mpd\u001b[0m\u001b[0;34m.\u001b[0m\u001b[0mread_csv\u001b[0m\u001b[0;34m(\u001b[0m\u001b[0;34m'AllBooks_baseline_DTM_Labelled.csv'\u001b[0m\u001b[0;34m,\u001b[0m \u001b[0mheader\u001b[0m\u001b[0;34m=\u001b[0m\u001b[0;32mNone\u001b[0m\u001b[0;34m,\u001b[0m\u001b[0mskiprows\u001b[0m\u001b[0;34m=\u001b[0m\u001b[0;36m1\u001b[0m\u001b[0;34m)\u001b[0m\u001b[0;34m\u001b[0m\u001b[0;34m\u001b[0m\u001b[0m\n\u001b[1;32m      2\u001b[0m \u001b[0mprint\u001b[0m\u001b[0;34m(\u001b[0m\u001b[0mdf\u001b[0m\u001b[0;34m.\u001b[0m\u001b[0mshape\u001b[0m\u001b[0;34m)\u001b[0m\u001b[0;34m\u001b[0m\u001b[0;34m\u001b[0m\u001b[0m\n\u001b[0;32m----> 3\u001b[0;31m \u001b[0mdf\u001b[0m\u001b[0;34m.\u001b[0m\u001b[0msample\u001b[0m\u001b[0;34m.\u001b[0m\u001b[0mhead\u001b[0m\u001b[0;34m(\u001b[0m\u001b[0;34m)\u001b[0m\u001b[0;34m\u001b[0m\u001b[0;34m\u001b[0m\u001b[0m\n\u001b[0m",
            "\u001b[0;31mAttributeError\u001b[0m: 'function' object has no attribute 'head'"
          ]
        }
      ]
    },
    {
      "cell_type": "code",
      "source": [
        "df[0] = df[0].str.split('_').str[0]\n",
        "df[0].value_counts()"
      ],
      "metadata": {
        "colab": {
          "base_uri": "https://localhost:8080/"
        },
        "id": "GhRmR0qL2sbI",
        "outputId": "5ac3bf80-907a-4da1-d042-dabd1dec8648"
      },
      "execution_count": 41,
      "outputs": [
        {
          "output_type": "execute_result",
          "data": {
            "text/plain": [
              "YogaSutra                189\n",
              "Upanishad                162\n",
              "TaoTeChing                81\n",
              "BookOfEccleasiasticus     50\n",
              "Buddhism                  46\n",
              "BookOfProverb             31\n",
              "BookOfWisdom              19\n",
              "BookOfEcclesiastes        12\n",
              "Name: 0, dtype: int64"
            ]
          },
          "metadata": {},
          "execution_count": 41
        }
      ]
    },
    {
      "cell_type": "code",
      "metadata": {
        "id": "ZtBFFRzEpD6L",
        "colab": {
          "base_uri": "https://localhost:8080/"
        },
        "outputId": "1bac75d4-c56d-4e87-969e-555d9a8ba2b7"
      },
      "source": [
        "X = df[df.columns[1:]].to_numpy(dtype=np.float32)\n",
        "y = df[df.columns[0]].to_numpy()\n",
        "print('X:', X.shape, X.dtype)\n",
        "print('y:', y.shape, y.dtype)"
      ],
      "execution_count": 42,
      "outputs": [
        {
          "output_type": "stream",
          "name": "stdout",
          "text": [
            "X: (590, 8266) float32\n",
            "y: (590,) object\n"
          ]
        }
      ]
    },
    {
      "cell_type": "markdown",
      "metadata": {
        "id": "-Naad49npyka"
      },
      "source": [
        "## Cluster it!"
      ]
    },
    {
      "cell_type": "code",
      "metadata": {
        "id": "_XyQswhFp0Jk",
        "colab": {
          "base_uri": "https://localhost:8080/"
        },
        "outputId": "91e6f931-6caa-400a-83ba-18c6f2ffb0b7"
      },
      "source": [
        "from sklearn.cluster import KMeans\n",
        "# again we know that it has 3 classes\n",
        "model = KMeans(n_clusters=8) \n",
        "model.fit(X)\n",
        "y_pred = model.predict(X)\n",
        "print(y_pred.shape)"
      ],
      "execution_count": 45,
      "outputs": [
        {
          "output_type": "stream",
          "name": "stderr",
          "text": [
            "/usr/local/lib/python3.9/dist-packages/sklearn/cluster/_kmeans.py:870: FutureWarning: The default value of `n_init` will change from 10 to 'auto' in 1.4. Set the value of `n_init` explicitly to suppress the warning\n",
            "  warnings.warn(\n"
          ]
        },
        {
          "output_type": "stream",
          "name": "stdout",
          "text": [
            "(590,)\n"
          ]
        }
      ]
    },
    {
      "cell_type": "markdown",
      "metadata": {
        "id": "8gx7qmwCtDK8"
      },
      "source": [
        "### Assesing the clustering quality \n",
        "\n",
        "If we have ground truth labels, we can use a method called \"Adjusted Rand Index\" (best = 1, worst ~ 0 or -1). \n",
        "\n",
        "Read more: https://scikit-learn.org/stable/modules/clustering.html#adjusted-rand-index"
      ]
    },
    {
      "cell_type": "code",
      "metadata": {
        "id": "j9DQWC1wp0QX",
        "colab": {
          "base_uri": "https://localhost:8080/"
        },
        "outputId": "b360f1fc-8148-4e98-f990-0525daa4e293"
      },
      "source": [
        "from sklearn import metrics\n",
        "print('ARI:', metrics.adjusted_rand_score(y, y_pred))"
      ],
      "execution_count": 46,
      "outputs": [
        {
          "output_type": "stream",
          "name": "stdout",
          "text": [
            "ARI: 0.20679677249738687\n"
          ]
        }
      ]
    },
    {
      "cell_type": "markdown",
      "metadata": {
        "id": "Xyf0oqgDtdjF"
      },
      "source": [
        "### Better clustering quality with input normalization \n",
        "\n",
        "Because K-means make assumption that features should have equal variances. \n",
        "\n",
        "We should standardize the input before clustering. \n",
        "\n",
        "Read more: https://scikit-learn.org/stable/modules/generated/sklearn.preprocessing.StandardScaler.html"
      ]
    },
    {
      "cell_type": "code",
      "metadata": {
        "id": "4iBddjDcp0cr",
        "colab": {
          "base_uri": "https://localhost:8080/"
        },
        "outputId": "613aec5e-04f4-4307-9f89-36a39a81632c"
      },
      "source": [
        "from sklearn import metrics\n",
        "\n",
        "from sklearn.cluster import KMeans\n",
        "from sklearn.preprocessing import StandardScaler\n",
        "scaler = StandardScaler(with_mean=True, with_std=True)\n",
        "_X = scaler.fit_transform(X)\n",
        "print('before mean and sd:', X[:,0].mean(), X[:,0].std())\n",
        "print('after mean and sd:', _X[:,0].mean(), _X[:,0].std())\n",
        "\n",
        "model = KMeans(n_clusters=3) \n",
        "# using the normalized X\n",
        "model.fit(_X)\n",
        "y_pred = model.predict(_X)\n",
        "print('ARI after normalized:', metrics.adjusted_rand_score(y, y_pred))"
      ],
      "execution_count": 47,
      "outputs": [
        {
          "output_type": "stream",
          "name": "stdout",
          "text": [
            "before mean and sd: 0.0033898305 0.058123488\n",
            "after mean and sd: 0.0 1.0\n"
          ]
        },
        {
          "output_type": "stream",
          "name": "stderr",
          "text": [
            "/usr/local/lib/python3.9/dist-packages/sklearn/cluster/_kmeans.py:870: FutureWarning: The default value of `n_init` will change from 10 to 'auto' in 1.4. Set the value of `n_init` explicitly to suppress the warning\n",
            "  warnings.warn(\n"
          ]
        },
        {
          "output_type": "stream",
          "name": "stdout",
          "text": [
            "ARI after normalized: 0.002303153215963574\n"
          ]
        }
      ]
    },
    {
      "cell_type": "markdown",
      "metadata": {
        "id": "VJhVxG3jwDqC"
      },
      "source": [
        "#### Don't even need to zero the mean"
      ]
    },
    {
      "cell_type": "code",
      "metadata": {
        "id": "dPiL3KJqs5ta",
        "colab": {
          "base_uri": "https://localhost:8080/"
        },
        "outputId": "ce283e23-d330-4f37-e466-527841c23268"
      },
      "source": [
        "# don't even need to zero the mean!\n",
        "scaler = StandardScaler(with_mean=False, with_std=True)\n",
        "_X = scaler.fit_transform(X)\n",
        "print('before mean and sd:', X[:,0].mean(), X[:,0].std())\n",
        "print('after mean and sd:', _X[:,0].mean(), _X[:,0].std())\n",
        "\n",
        "model = KMeans(n_clusters=3) \n",
        "# using the normalized X\n",
        "model.fit(_X)\n",
        "y_pred = model.predict(_X)\n",
        "print('ARI after normalized:', metrics.adjusted_rand_score(y, y_pred))"
      ],
      "execution_count": 48,
      "outputs": [
        {
          "output_type": "stream",
          "name": "stdout",
          "text": [
            "before mean and sd: 0.0033898305 0.058123488\n",
            "after mean and sd: 0.058321185 1.0\n"
          ]
        },
        {
          "output_type": "stream",
          "name": "stderr",
          "text": [
            "/usr/local/lib/python3.9/dist-packages/sklearn/cluster/_kmeans.py:870: FutureWarning: The default value of `n_init` will change from 10 to 'auto' in 1.4. Set the value of `n_init` explicitly to suppress the warning\n",
            "  warnings.warn(\n"
          ]
        },
        {
          "output_type": "stream",
          "name": "stdout",
          "text": [
            "ARI after normalized: 0.0023766445900204576\n"
          ]
        }
      ]
    },
    {
      "cell_type": "markdown",
      "metadata": {
        "id": "cBHrKyd-wSUq"
      },
      "source": [
        "### Wrap as a pipeline"
      ]
    },
    {
      "cell_type": "code",
      "metadata": {
        "id": "v2s0X0X4k-rY",
        "colab": {
          "base_uri": "https://localhost:8080/"
        },
        "outputId": "c43144f3-fc61-4a07-d9ff-2e02b186bc6e"
      },
      "source": [
        "# Pipelines combine multiple steps ** Wrap up the above as a pipeline\n",
        "from sklearn.preprocessing import StandardScaler # MaxAbsScaler and Normalizer are other examples\n",
        "from sklearn.cluster import KMeans\n",
        "from sklearn.pipeline import make_pipeline\n",
        "\n",
        "scaler = StandardScaler()\n",
        "kmeans = KMeans(n_clusters=3)\n",
        "pipeline = make_pipeline(scaler, kmeans)\n",
        "pipeline.fit(X)\n",
        "y_pred = pipeline.predict(X)\n",
        "print('ARI:', metrics.adjusted_rand_score(y, y_pred))"
      ],
      "execution_count": 49,
      "outputs": [
        {
          "output_type": "stream",
          "name": "stderr",
          "text": [
            "/usr/local/lib/python3.9/dist-packages/sklearn/cluster/_kmeans.py:870: FutureWarning: The default value of `n_init` will change from 10 to 'auto' in 1.4. Set the value of `n_init` explicitly to suppress the warning\n",
            "  warnings.warn(\n"
          ]
        },
        {
          "output_type": "stream",
          "name": "stdout",
          "text": [
            "ARI: 0.00026009301718220616\n"
          ]
        }
      ]
    },
    {
      "cell_type": "markdown",
      "metadata": {
        "id": "grE0s1BewwpZ"
      },
      "source": [
        "# Selecting the \"K\" with Elbow method"
      ]
    },
    {
      "cell_type": "code",
      "source": [
        "from tqdm import tqdm\n",
        "# Run K-means for a set of k\n",
        "distortions = []\n",
        "models = []\n",
        "K = range(1,50+1,5)\n",
        "for k in tqdm(K):\n",
        "    model = KMeans(n_clusters=k)\n",
        "    model.fit(X)\n",
        "    models.append(model)\n",
        "    distortions.append(model.inertia_)"
      ],
      "metadata": {
        "colab": {
          "base_uri": "https://localhost:8080/"
        },
        "id": "aVnuNnvw9N4v",
        "outputId": "1938cf21-c42f-4914-e519-d59c6896c722"
      },
      "execution_count": 56,
      "outputs": [
        {
          "output_type": "stream",
          "name": "stderr",
          "text": [
            "\r  0%|          | 0/10 [00:00<?, ?it/s]/usr/local/lib/python3.9/dist-packages/sklearn/cluster/_kmeans.py:870: FutureWarning: The default value of `n_init` will change from 10 to 'auto' in 1.4. Set the value of `n_init` explicitly to suppress the warning\n",
            "  warnings.warn(\n",
            " 10%|█         | 1/10 [00:00<00:08,  1.11it/s]/usr/local/lib/python3.9/dist-packages/sklearn/cluster/_kmeans.py:870: FutureWarning: The default value of `n_init` will change from 10 to 'auto' in 1.4. Set the value of `n_init` explicitly to suppress the warning\n",
            "  warnings.warn(\n",
            " 20%|██        | 2/10 [00:03<00:15,  2.00s/it]/usr/local/lib/python3.9/dist-packages/sklearn/cluster/_kmeans.py:870: FutureWarning: The default value of `n_init` will change from 10 to 'auto' in 1.4. Set the value of `n_init` explicitly to suppress the warning\n",
            "  warnings.warn(\n",
            " 30%|███       | 3/10 [00:09<00:25,  3.68s/it]/usr/local/lib/python3.9/dist-packages/sklearn/cluster/_kmeans.py:870: FutureWarning: The default value of `n_init` will change from 10 to 'auto' in 1.4. Set the value of `n_init` explicitly to suppress the warning\n",
            "  warnings.warn(\n",
            " 40%|████      | 4/10 [00:14<00:25,  4.17s/it]/usr/local/lib/python3.9/dist-packages/sklearn/cluster/_kmeans.py:870: FutureWarning: The default value of `n_init` will change from 10 to 'auto' in 1.4. Set the value of `n_init` explicitly to suppress the warning\n",
            "  warnings.warn(\n",
            " 50%|█████     | 5/10 [00:22<00:27,  5.45s/it]/usr/local/lib/python3.9/dist-packages/sklearn/cluster/_kmeans.py:870: FutureWarning: The default value of `n_init` will change from 10 to 'auto' in 1.4. Set the value of `n_init` explicitly to suppress the warning\n",
            "  warnings.warn(\n",
            " 60%|██████    | 6/10 [00:29<00:23,  5.99s/it]/usr/local/lib/python3.9/dist-packages/sklearn/cluster/_kmeans.py:870: FutureWarning: The default value of `n_init` will change from 10 to 'auto' in 1.4. Set the value of `n_init` explicitly to suppress the warning\n",
            "  warnings.warn(\n",
            " 70%|███████   | 7/10 [00:39<00:22,  7.40s/it]/usr/local/lib/python3.9/dist-packages/sklearn/cluster/_kmeans.py:870: FutureWarning: The default value of `n_init` will change from 10 to 'auto' in 1.4. Set the value of `n_init` explicitly to suppress the warning\n",
            "  warnings.warn(\n",
            " 80%|████████  | 8/10 [00:50<00:17,  8.60s/it]/usr/local/lib/python3.9/dist-packages/sklearn/cluster/_kmeans.py:870: FutureWarning: The default value of `n_init` will change from 10 to 'auto' in 1.4. Set the value of `n_init` explicitly to suppress the warning\n",
            "  warnings.warn(\n",
            " 90%|█████████ | 9/10 [01:03<00:09,  9.88s/it]/usr/local/lib/python3.9/dist-packages/sklearn/cluster/_kmeans.py:870: FutureWarning: The default value of `n_init` will change from 10 to 'auto' in 1.4. Set the value of `n_init` explicitly to suppress the warning\n",
            "  warnings.warn(\n",
            "100%|██████████| 10/10 [01:16<00:00,  7.67s/it]\n"
          ]
        }
      ]
    },
    {
      "cell_type": "code",
      "metadata": {
        "id": "qjvv0Mwy1RHB",
        "colab": {
          "base_uri": "https://localhost:8080/",
          "height": 513
        },
        "outputId": "8debd1d0-894b-48ae-8158-363fcb42dc28"
      },
      "source": [
        "#Plotting the distortions of K-Means\n",
        "plt.figure(figsize=(16,8))\n",
        "plt.plot(K, distortions, 'bx-')\n",
        "plt.xlabel('k')\n",
        "plt.ylabel('Distortion')\n",
        "plt.title('The Elbow Method showing the optimal k')\n",
        "plt.show()"
      ],
      "execution_count": 57,
      "outputs": [
        {
          "output_type": "display_data",
          "data": {
            "text/plain": [
              "<Figure size 1152x576 with 1 Axes>"
            ],
            "image/png": "[encoded data removed]"
          },
          "metadata": {
            "needs_background": "light"
          }
        }
      ]
    },
    {
      "cell_type": "code",
      "source": [],
      "metadata": {
        "id": "bJcGanoM8nmd"
      },
      "execution_count": null,
      "outputs": []
    }
  ]
}